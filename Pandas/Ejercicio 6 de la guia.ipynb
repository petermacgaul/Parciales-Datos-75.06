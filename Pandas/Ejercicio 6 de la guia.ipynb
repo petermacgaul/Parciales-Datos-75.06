{
 "cells": [
  {
   "cell_type": "markdown",
   "metadata": {},
   "source": [
    "El GCPD (Gotham City Police Dept) recolecta la información de casos policiales que\n",
    "acontecen en Ciudad Gótica. Esta información se encuentra guardada en un dataframe con el\n",
    "siguiente formato: (fecha, id_caso, descripcion, estado_caso, categoria, latitud, longitud). Los\n",
    "posibles estados que puede tener un caso son 1: caso abierto, 2: caso resuelto, 3: cerrado sin\n",
    "resolución. Las fechas se encuentran en el formato YYYY-MM-DD. \n",
    "\n",
    "Por otro lado el\n",
    "comisionado Gordon guarda un registro detallado sobre en cuáles casos fue activada la\n",
    "batiseñal para pedir ayuda del vigilante, Batman. Esta información se encuentra en un\n",
    "Dataframe con el siguiente formato (id_caso, respuesta), siendo campo respuesta si la señal\n",
    "tuvo una respuesta positiva (1) o negativa (0) de parte de él \n",
    "\n",
    "\n",
    "El sector encargado de las\n",
    "estadísticas oficiales del GCPD quiere con esta información analizar las siguientes situaciones:\n",
    "\n",
    "A. Tasa de resolución de casos de la fuerza policial por categoría de caso (considerando\n",
    "aquellos casos en los que no participó Batman).\n",
    "\n",
    "B. Tasa de resolución de casos con la ayuda de Batman (considerando que aquellos casos\n",
    "en los que fue llamado con la batiseñal, participó en la resolución).\n",
    "\n",
    "C. Indicar el mes del año pasado en el que Batman tuvo mayor participación en la\n",
    "investigación de casos."
   ]
  },
  {
   "cell_type": "code",
   "execution_count": 115,
   "metadata": {},
   "outputs": [],
   "source": [
    "import pandas as pd\n",
    "#caso (fecha, id_caso, descripcion, estado_caso, categoria, latitud, longitud)\n",
    "caso = pd.read_csv(\"caso.csv\")\n",
    "\n",
    "#señal (id_caso, respuesta)\n",
    "señal = pd.read_csv(\"señal.csv\")\n"
   ]
  },
  {
   "cell_type": "code",
   "execution_count": 142,
   "metadata": {},
   "outputs": [],
   "source": [
    "merged = pd.merge(caso,señal,on=\"id_caso\",how=\"left\")"
   ]
  },
  {
   "cell_type": "code",
   "execution_count": 143,
   "metadata": {},
   "outputs": [],
   "source": [
    "# resuelto == 2\n",
    "a = merged.groupby([\"categoria\",\"estado_caso\"]).agg({\"id_caso\":\"count\"})"
   ]
  },
  {
   "cell_type": "code",
   "execution_count": 144,
   "metadata": {},
   "outputs": [],
   "source": [
    "b = a.unstack(fill_value=0)"
   ]
  },
  {
   "cell_type": "code",
   "execution_count": 151,
   "metadata": {},
   "outputs": [
    {
     "data": {
      "text/html": [
       "<div>\n",
       "<style scoped>\n",
       "    .dataframe tbody tr th:only-of-type {\n",
       "        vertical-align: middle;\n",
       "    }\n",
       "\n",
       "    .dataframe tbody tr th {\n",
       "        vertical-align: top;\n",
       "    }\n",
       "\n",
       "    .dataframe thead tr th {\n",
       "        text-align: left;\n",
       "    }\n",
       "</style>\n",
       "<table border=\"1\" class=\"dataframe\">\n",
       "  <thead>\n",
       "    <tr>\n",
       "      <th></th>\n",
       "      <th>categoria</th>\n",
       "      <th colspan=\"3\" halign=\"left\">id_caso</th>\n",
       "    </tr>\n",
       "    <tr>\n",
       "      <th>estado_caso</th>\n",
       "      <th></th>\n",
       "      <th>1</th>\n",
       "      <th>2</th>\n",
       "      <th>3</th>\n",
       "    </tr>\n",
       "  </thead>\n",
       "  <tbody>\n",
       "    <tr>\n",
       "      <th>0</th>\n",
       "      <td>Asesinato</td>\n",
       "      <td>3</td>\n",
       "      <td>4</td>\n",
       "      <td>2</td>\n",
       "    </tr>\n",
       "    <tr>\n",
       "      <th>1</th>\n",
       "      <td>Fraude</td>\n",
       "      <td>3</td>\n",
       "      <td>2</td>\n",
       "      <td>0</td>\n",
       "    </tr>\n",
       "    <tr>\n",
       "      <th>2</th>\n",
       "      <td>Robo</td>\n",
       "      <td>2</td>\n",
       "      <td>1</td>\n",
       "      <td>2</td>\n",
       "    </tr>\n",
       "  </tbody>\n",
       "</table>\n",
       "</div>"
      ],
      "text/plain": [
       "             categoria id_caso      \n",
       "estado_caso                  1  2  3\n",
       "0            Asesinato       3  4  2\n",
       "1               Fraude       3  2  0\n",
       "2                 Robo       2  1  2"
      ]
     },
     "execution_count": 151,
     "metadata": {},
     "output_type": "execute_result"
    }
   ],
   "source": [
    "b.reset_index()"
   ]
  },
  {
   "cell_type": "code",
   "execution_count": 69,
   "metadata": {},
   "outputs": [
    {
     "data": {
      "text/html": [
       "<div>\n",
       "<style scoped>\n",
       "    .dataframe tbody tr th:only-of-type {\n",
       "        vertical-align: middle;\n",
       "    }\n",
       "\n",
       "    .dataframe tbody tr th {\n",
       "        vertical-align: top;\n",
       "    }\n",
       "\n",
       "    .dataframe thead th {\n",
       "        text-align: right;\n",
       "    }\n",
       "</style>\n",
       "<table border=\"1\" class=\"dataframe\">\n",
       "  <thead>\n",
       "    <tr style=\"text-align: right;\">\n",
       "      <th></th>\n",
       "      <th>fecha</th>\n",
       "      <th>id_caso</th>\n",
       "      <th>descripcion</th>\n",
       "      <th>estado_caso</th>\n",
       "      <th>categoria</th>\n",
       "      <th>latitud</th>\n",
       "      <th>longitud</th>\n",
       "      <th>respuesta</th>\n",
       "      <th>cant_casos</th>\n",
       "      <th>casos_resueltos</th>\n",
       "    </tr>\n",
       "  </thead>\n",
       "  <tbody>\n",
       "    <tr>\n",
       "      <th>4</th>\n",
       "      <td>2017-06-23</td>\n",
       "      <td>5</td>\n",
       "      <td>Desc5</td>\n",
       "      <td>2</td>\n",
       "      <td>Fraude</td>\n",
       "      <td>40.71193</td>\n",
       "      <td>-73.59812</td>\n",
       "      <td>NaN</td>\n",
       "      <td>5</td>\n",
       "      <td>1</td>\n",
       "    </tr>\n",
       "    <tr>\n",
       "      <th>5</th>\n",
       "      <td>2017-07-08</td>\n",
       "      <td>6</td>\n",
       "      <td>Desc6</td>\n",
       "      <td>2</td>\n",
       "      <td>Asesinato</td>\n",
       "      <td>40.76393</td>\n",
       "      <td>-73.51294</td>\n",
       "      <td>0.0</td>\n",
       "      <td>9</td>\n",
       "      <td>4</td>\n",
       "    </tr>\n",
       "    <tr>\n",
       "      <th>12</th>\n",
       "      <td>2017-07-12</td>\n",
       "      <td>13</td>\n",
       "      <td>Desc13</td>\n",
       "      <td>2</td>\n",
       "      <td>Asesinato</td>\n",
       "      <td>39.77283</td>\n",
       "      <td>-74.92351</td>\n",
       "      <td>0.0</td>\n",
       "      <td>9</td>\n",
       "      <td>4</td>\n",
       "    </tr>\n",
       "    <tr>\n",
       "      <th>16</th>\n",
       "      <td>2017-07-09</td>\n",
       "      <td>17</td>\n",
       "      <td>Desc17</td>\n",
       "      <td>2</td>\n",
       "      <td>Asesinato</td>\n",
       "      <td>40.61923</td>\n",
       "      <td>-72.12512</td>\n",
       "      <td>0.0</td>\n",
       "      <td>9</td>\n",
       "      <td>4</td>\n",
       "    </tr>\n",
       "    <tr>\n",
       "      <th>18</th>\n",
       "      <td>2017-07-09</td>\n",
       "      <td>19</td>\n",
       "      <td>Desc19</td>\n",
       "      <td>2</td>\n",
       "      <td>Asesinato</td>\n",
       "      <td>39.15973</td>\n",
       "      <td>-72.23589</td>\n",
       "      <td>NaN</td>\n",
       "      <td>9</td>\n",
       "      <td>4</td>\n",
       "    </tr>\n",
       "  </tbody>\n",
       "</table>\n",
       "</div>"
      ],
      "text/plain": [
       "         fecha  id_caso descripcion  estado_caso  categoria   latitud  \\\n",
       "4   2017-06-23        5       Desc5            2     Fraude  40.71193   \n",
       "5   2017-07-08        6       Desc6            2  Asesinato  40.76393   \n",
       "12  2017-07-12       13      Desc13            2  Asesinato  39.77283   \n",
       "16  2017-07-09       17      Desc17            2  Asesinato  40.61923   \n",
       "18  2017-07-09       19      Desc19            2  Asesinato  39.15973   \n",
       "\n",
       "    longitud  respuesta  cant_casos  casos_resueltos  \n",
       "4  -73.59812        NaN           5                1  \n",
       "5  -73.51294        0.0           9                4  \n",
       "12 -74.92351        0.0           9                4  \n",
       "16 -72.12512        0.0           9                4  \n",
       "18 -72.23589        NaN           9                4  "
      ]
     },
     "execution_count": 69,
     "metadata": {},
     "output_type": "execute_result"
    }
   ],
   "source": [
    "a"
   ]
  },
  {
   "cell_type": "code",
   "execution_count": 68,
   "metadata": {},
   "outputs": [
    {
     "name": "stderr",
     "output_type": "stream",
     "text": [
      "/home/peter/.local/lib/python3.7/site-packages/ipykernel_launcher.py:1: SettingWithCopyWarning: \n",
      "A value is trying to be set on a copy of a slice from a DataFrame.\n",
      "Try using .loc[row_indexer,col_indexer] = value instead\n",
      "\n",
      "See the caveats in the documentation: http://pandas.pydata.org/pandas-docs/stable/user_guide/indexing.html#returning-a-view-versus-a-copy\n",
      "  \"\"\"Entry point for launching an IPython kernel.\n"
     ]
    }
   ],
   "source": [
    "merged[\"casos_resueltos\"] = merged.groupby(\"categoria\").id_caso.transform(lambda x: x.count())"
   ]
  },
  {
   "cell_type": "code",
   "execution_count": 70,
   "metadata": {},
   "outputs": [],
   "source": [
    "def funcion(x):\n",
    "    return x[\"casos_resueltos\"]/x[\"cant_casos\"]"
   ]
  },
  {
   "cell_type": "code",
   "execution_count": 73,
   "metadata": {},
   "outputs": [
    {
     "data": {
      "text/plain": [
       "categoria    \n",
       "Asesinato  5     0.444444\n",
       "           12    0.444444\n",
       "           16    0.444444\n",
       "           18    0.444444\n",
       "Fraude     4     0.200000\n",
       "dtype: float64"
      ]
     },
     "execution_count": 73,
     "metadata": {},
     "output_type": "execute_result"
    }
   ],
   "source": [
    "merged.groupby(\"categoria\").apply(funcion)"
   ]
  },
  {
   "cell_type": "code",
   "execution_count": null,
   "metadata": {},
   "outputs": [],
   "source": []
  },
  {
   "cell_type": "code",
   "execution_count": null,
   "metadata": {},
   "outputs": [],
   "source": []
  },
  {
   "cell_type": "code",
   "execution_count": null,
   "metadata": {},
   "outputs": [],
   "source": []
  },
  {
   "cell_type": "code",
   "execution_count": null,
   "metadata": {},
   "outputs": [],
   "source": []
  },
  {
   "cell_type": "code",
   "execution_count": null,
   "metadata": {},
   "outputs": [],
   "source": [
    "\n"
   ]
  }
 ],
 "metadata": {
  "kernelspec": {
   "display_name": "Python 3",
   "language": "python",
   "name": "python3"
  },
  "language_info": {
   "codemirror_mode": {
    "name": "ipython",
    "version": 3
   },
   "file_extension": ".py",
   "mimetype": "text/x-python",
   "name": "python",
   "nbconvert_exporter": "python",
   "pygments_lexer": "ipython3",
   "version": "3.7.5rc1"
  }
 },
 "nbformat": 4,
 "nbformat_minor": 2
}
