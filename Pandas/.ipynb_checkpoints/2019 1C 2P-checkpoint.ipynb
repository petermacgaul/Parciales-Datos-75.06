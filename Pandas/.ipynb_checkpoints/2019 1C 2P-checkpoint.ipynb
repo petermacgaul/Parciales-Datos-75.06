{
 "cells": [
  {
   "cell_type": "markdown",
   "metadata": {},
   "source": [
    "2) Se tiene información diaria de la cotización de acciones en el NYSE en el\n",
    "archivo nyse_daily.csv en el siguiente formato (symbol, date,\n",
    "open, measure_midday, measure_afternoon, close, volume).\n",
    "\n",
    "Por cada acción cuyo nombre está indicado en el campo symbol,\n",
    "tendremos una entrada por fecha con los valores open,\n",
    "measure_midday, measure_afternoon, y close indicando\n",
    "respectivamente a qué valor abrio la acción, cuál fue el valor que tuvo al\n",
    "mediodía, cual fue su valor que tuvo por la tarde y cual fue su valor al cierre\n",
    "del mercado. Asimismo en volume se indica el volumen operado ese día\n",
    "para esa acción.\n",
    "\n",
    "\n",
    "Por otro lado se cuenta con el archivo s&p500.csv de formato (symbol,\n",
    "company_name) que indica aquellas acciones que deben ser consideradas\n",
    "para calcular el índice Standard & Poor’s 500 (S&P 500).\n",
    "\n",
    "Se pide calcular el valor diario del índice S&P 500, teniendo en cuenta que\n",
    "el mismo se calcula como el promedio del valor promedio de las mediciones\n",
    "que tuvo cada acción ese día (open, measure_midday,\n",
    "measure_afternoon, close), para las 500 acciones que se encuentran\n",
    "en el archivo s&p500.csv.\n",
    "\n",
    "El resultado debe estar en un dataframe de la forma (date,\n",
    "index_name, value). Por ejemplo, una entrada del mismo sería\n",
    "(‘2019-03-24’, ‘SP500’, ‘35.46’).\n",
    "Nota: A los efectos prácticos del ejercicio consideraremos como\n",
    "estadísticamente significativo calcular el promedio con esas pocas\n",
    "mediciones.\n",
    "(***) (15pts)"
   ]
  },
  {
   "cell_type": "code",
   "execution_count": 17,
   "metadata": {},
   "outputs": [],
   "source": [
    "import pandas as pd\n",
    "# (symbol, date, open, measure_midday, measure_afternoon, close, volume)\n",
    "data1 = pd.DataFrame([[\"SI\",\"2019-11-18\",1.0, 1.0, 1.0,1.0,1.0],\n",
    "                     [\"AB\",\"2019-11-18\",1.0, 1.0, 2.0,1.0,1.0],\n",
    "                     [\"HS\",\"2019-11-18\",1.0, 1.0, 9.0,1.0,1.0],\n",
    "                     [\"RS\",\"2019-11-18\",3.0, 1.0, 4.0,5.0,2.0],\n",
    "                     [\"NO\",\"2019-11-18\",2.0, 2.0, 2.0,2.0,2.0]],\n",
    "                     columns=[\"symbol\",\"date\",\"open\",\"measure_midday\",\"measure_afternoon\", \"close\", \"volume\"] )\n",
    "\n",
    "# (symbol, company_name) \n",
    "\n",
    "data2 = pd.DataFrame([[\"SI\",\"SonIn\"],\n",
    "                     [\"HS\",\"SonIn\"],\n",
    "                     [\"RS\",\"SonIn\"]],\n",
    "                     columns=[\"symbol\",\"company_name\"])\n"
   ]
  },
  {
   "cell_type": "code",
   "execution_count": 18,
   "metadata": {},
   "outputs": [],
   "source": [
    "# valor promedio de las 4 mediciones para las 500 acciones\n",
    "daily = data1\n",
    "\n",
    "syp = data2"
   ]
  },
  {
   "cell_type": "code",
   "execution_count": 19,
   "metadata": {},
   "outputs": [],
   "source": [
    "merged = pd.merge(daily,syp,on=\"symbol\",how=\"inner\")"
   ]
  },
  {
   "cell_type": "code",
   "execution_count": null,
   "metadata": {},
   "outputs": [],
   "source": [
    "#merged 500 companias --> (symbol, date, open, measure_midday, measure_afternoon, close, volume, company_name)"
   ]
  },
  {
   "cell_type": "code",
   "execution_count": 21,
   "metadata": {},
   "outputs": [],
   "source": [
    "merged[\"daily_mean\"] = (merged.open + merged.measure_midday + merged.measure_afternoon + merged.close) /4"
   ]
  },
  {
   "cell_type": "code",
   "execution_count": 25,
   "metadata": {},
   "outputs": [],
   "source": [
    "result = merged.drop(columns=[\"symbol\",\"open\", \"measure_midday\", \"measure_afternoon\", \"close\", \"volume\",\"company_name\"])\n",
    "#date, value"
   ]
  },
  {
   "cell_type": "code",
   "execution_count": 26,
   "metadata": {},
   "outputs": [],
   "source": [
    "result[\"index_name\"] = \"SP500\""
   ]
  },
  {
   "cell_type": "code",
   "execution_count": 27,
   "metadata": {},
   "outputs": [
    {
     "data": {
      "text/html": [
       "<div>\n",
       "<style scoped>\n",
       "    .dataframe tbody tr th:only-of-type {\n",
       "        vertical-align: middle;\n",
       "    }\n",
       "\n",
       "    .dataframe tbody tr th {\n",
       "        vertical-align: top;\n",
       "    }\n",
       "\n",
       "    .dataframe thead th {\n",
       "        text-align: right;\n",
       "    }\n",
       "</style>\n",
       "<table border=\"1\" class=\"dataframe\">\n",
       "  <thead>\n",
       "    <tr style=\"text-align: right;\">\n",
       "      <th></th>\n",
       "      <th>date</th>\n",
       "      <th>daily_mean</th>\n",
       "      <th>index_name</th>\n",
       "    </tr>\n",
       "  </thead>\n",
       "  <tbody>\n",
       "    <tr>\n",
       "      <th>0</th>\n",
       "      <td>2019-11-18</td>\n",
       "      <td>1.00</td>\n",
       "      <td>SP500</td>\n",
       "    </tr>\n",
       "    <tr>\n",
       "      <th>1</th>\n",
       "      <td>2019-11-18</td>\n",
       "      <td>3.00</td>\n",
       "      <td>SP500</td>\n",
       "    </tr>\n",
       "    <tr>\n",
       "      <th>2</th>\n",
       "      <td>2019-11-18</td>\n",
       "      <td>3.25</td>\n",
       "      <td>SP500</td>\n",
       "    </tr>\n",
       "  </tbody>\n",
       "</table>\n",
       "</div>"
      ],
      "text/plain": [
       "         date  daily_mean index_name\n",
       "0  2019-11-18        1.00      SP500\n",
       "1  2019-11-18        3.00      SP500\n",
       "2  2019-11-18        3.25      SP500"
      ]
     },
     "execution_count": 27,
     "metadata": {},
     "output_type": "execute_result"
    }
   ],
   "source": [
    "result"
   ]
  },
  {
   "cell_type": "code",
   "execution_count": null,
   "metadata": {},
   "outputs": [],
   "source": []
  }
 ],
 "metadata": {
  "kernelspec": {
   "display_name": "Python 3",
   "language": "python",
   "name": "python3"
  },
  "language_info": {
   "codemirror_mode": {
    "name": "ipython",
    "version": 3
   },
   "file_extension": ".py",
   "mimetype": "text/x-python",
   "name": "python",
   "nbconvert_exporter": "python",
   "pygments_lexer": "ipython3",
   "version": "3.7.5rc1"
  }
 },
 "nbformat": 4,
 "nbformat_minor": 2
}
