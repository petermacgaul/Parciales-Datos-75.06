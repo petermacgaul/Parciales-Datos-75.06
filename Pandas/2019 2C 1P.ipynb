{
 "cells": [
  {
   "cell_type": "code",
   "execution_count": 1,
   "metadata": {},
   "outputs": [],
   "source": [
    "import pandas as pd\n",
    "# (symbol, date, open, measure_midday, measure_afternoon, close, volume)\n",
    "data1 = pd.DataFrame([[16,\"2019-11-18\",1.0, 1.0, 1.0,3.0,1.0],\n",
    "                     [13,\"2019-11-18\",1.0, 1.0, 2.0,2.0,1.0],\n",
    "                     [15,\"2019-11-18\",1.0, 1.0, 9.0,4.0,1.0],\n",
    "                     [1,\"2019-11-18\",3.0, 1.0, 4.0,5.0,2.0]],\n",
    "                     columns=[\"id_pager\",\"numero\",\"area\",\"fecha de creacion\", \"nombre_cliente\", \"region\", \"categoria\"] )\n",
    "\n",
    "# (symbol, company_name) \n",
    "\n",
    "data2 = pd.DataFrame([[2019,11,11,11,11,11,16,\"tuvieja\",19],\n",
    "                      [2019,11,11,11,11,11,16,\"tuvieja\",19],\n",
    "                      [2019,11,11,11,11,11,16,\"tuvieja\",19],\n",
    "                      [2019,11,11,11,11,11,13,\"tuvieja\",19],\n",
    "                      [2019,10,11,11,11,11,13,\"tuvieja\",19],\n",
    "                      [2019,11,11,11,11,11,15,\"tuvieja\",18],\n",
    "                      [2019,11,11,11,11,11,13,\"tuvieja\",19],\n",
    "                      [2019,10,11,11,11,11,13,\"tuvieja\",19],\n",
    "                      [2019,11,11,11,11,11,15,\"tuvieja\",18],\n",
    "                      [2019,11,11,11,11,11,13,\"tuvieja\",19],\n",
    "                      [2019,11,11,11,11,11,13,\"tuvieja\",1],\n",
    "                      [2019,11,11,11,11,11,15,\"tuvieja\",18],\n",
    "                      [2019,11,11,11,11,11,15,\"tuvieja\",19],\n",
    "                      [2019,10,11,11,11,11,1,\"tuvieja\",19],\n",
    "],\n",
    "                     columns=[\"año\", \"mes\", \"dia\", \"hora\", \"minutos\", \"segundos\", \"id_pager\", \"mensaje\", \"num_origen\"])"
   ]
  },
  {
   "cell_type": "code",
   "execution_count": 14,
   "metadata": {},
   "outputs": [],
   "source": [
    "#clientes.csv\n",
    "#id_pager,numero,area,fecha de creacion, nombre cliente, region, categoria\n",
    "\n",
    "#eventos.csv\n",
    "#año mes dia hora minutos segundos, id_pager, mensaje, num_origen"
   ]
  },
  {
   "cell_type": "markdown",
   "metadata": {},
   "source": [
    "a) --> Region que tiene activos (ultimo mes con mensajes)"
   ]
  },
  {
   "cell_type": "code",
   "execution_count": 52,
   "metadata": {
    "scrolled": true
   },
   "outputs": [
    {
     "data": {
      "text/plain": [
       "año              2019\n",
       "mes                11\n",
       "dia                11\n",
       "hora               11\n",
       "minutos            11\n",
       "segundos           11\n",
       "id_pager           16\n",
       "mensaje       tuvieja\n",
       "num_origen         19\n",
       "Name: 0, dtype: object"
      ]
     },
     "execution_count": 52,
     "metadata": {},
     "output_type": "execute_result"
    }
   ],
   "source": [
    "data2 = data2[(data2[\"año\"] == 2019) & (data2[\"mes\"]>10)]\n",
    "data2.iloc[0,:]"
   ]
  },
  {
   "cell_type": "code",
   "execution_count": 16,
   "metadata": {},
   "outputs": [],
   "source": [
    "merged = pd.merge(data1,data2,on=\"id_pager\",how=\"right\")"
   ]
  },
  {
   "cell_type": "code",
   "execution_count": 17,
   "metadata": {},
   "outputs": [],
   "source": [
    "result = merged.groupby(\"region\",as_index=False).agg({\"id_pager\":\"count\"})"
   ]
  },
  {
   "cell_type": "code",
   "execution_count": 18,
   "metadata": {},
   "outputs": [
    {
     "data": {
      "text/plain": [
       "0    2.0\n",
       "Name: region, dtype: float64"
      ]
     },
     "execution_count": 18,
     "metadata": {},
     "output_type": "execute_result"
    }
   ],
   "source": [
    "result.nlargest(1,\"id_pager\").region"
   ]
  },
  {
   "cell_type": "markdown",
   "metadata": {},
   "source": [
    " # B"
   ]
  },
  {
   "cell_type": "code",
   "execution_count": 31,
   "metadata": {},
   "outputs": [],
   "source": [
    "a = merged.groupby([\"id_pager\",\"num_origen\"]).count().reset_index()"
   ]
  },
  {
   "cell_type": "code",
   "execution_count": 32,
   "metadata": {},
   "outputs": [
    {
     "data": {
      "text/plain": [
       "array([13, 15, 16])"
      ]
     },
     "execution_count": 32,
     "metadata": {},
     "output_type": "execute_result"
    }
   ],
   "source": [
    "total = len(a.id_pager.unique())\n",
    "a.id_pager.unique()"
   ]
  },
  {
   "cell_type": "code",
   "execution_count": 21,
   "metadata": {},
   "outputs": [],
   "source": [
    "a = a.groupby(\"id_pager\").count()"
   ]
  },
  {
   "cell_type": "code",
   "execution_count": 33,
   "metadata": {},
   "outputs": [
    {
     "data": {
      "text/html": [
       "<div>\n",
       "<style scoped>\n",
       "    .dataframe tbody tr th:only-of-type {\n",
       "        vertical-align: middle;\n",
       "    }\n",
       "\n",
       "    .dataframe tbody tr th {\n",
       "        vertical-align: top;\n",
       "    }\n",
       "\n",
       "    .dataframe thead th {\n",
       "        text-align: right;\n",
       "    }\n",
       "</style>\n",
       "<table border=\"1\" class=\"dataframe\">\n",
       "  <thead>\n",
       "    <tr style=\"text-align: right;\">\n",
       "      <th></th>\n",
       "      <th>id_pager</th>\n",
       "      <th>num_origen</th>\n",
       "      <th>numero</th>\n",
       "      <th>area</th>\n",
       "      <th>fecha de creacion</th>\n",
       "      <th>nombre_cliente</th>\n",
       "      <th>region</th>\n",
       "      <th>categoria</th>\n",
       "      <th>año</th>\n",
       "      <th>mes</th>\n",
       "      <th>dia</th>\n",
       "      <th>hora</th>\n",
       "      <th>minutos</th>\n",
       "      <th>segundos</th>\n",
       "      <th>mensaje</th>\n",
       "    </tr>\n",
       "  </thead>\n",
       "  <tbody>\n",
       "    <tr>\n",
       "      <th>0</th>\n",
       "      <td>13</td>\n",
       "      <td>1</td>\n",
       "      <td>1</td>\n",
       "      <td>1</td>\n",
       "      <td>1</td>\n",
       "      <td>1</td>\n",
       "      <td>1</td>\n",
       "      <td>1</td>\n",
       "      <td>1</td>\n",
       "      <td>1</td>\n",
       "      <td>1</td>\n",
       "      <td>1</td>\n",
       "      <td>1</td>\n",
       "      <td>1</td>\n",
       "      <td>1</td>\n",
       "    </tr>\n",
       "  </tbody>\n",
       "</table>\n",
       "</div>"
      ],
      "text/plain": [
       "   id_pager  num_origen  numero  area  fecha de creacion  nombre_cliente  \\\n",
       "0        13           1       1     1                  1               1   \n",
       "\n",
       "   region  categoria  año  mes  dia  hora  minutos  segundos  mensaje  \n",
       "0       1          1    1    1    1     1        1         1        1  "
      ]
     },
     "execution_count": 33,
     "metadata": {},
     "output_type": "execute_result"
    }
   ],
   "source": [
    "result = a[a[\"num_origen\"]==1]\n",
    "result"
   ]
  },
  {
   "cell_type": "code",
   "execution_count": 23,
   "metadata": {},
   "outputs": [],
   "source": [
    "pagers_unicos = len(result.index)"
   ]
  },
  {
   "cell_type": "code",
   "execution_count": 24,
   "metadata": {},
   "outputs": [
    {
     "data": {
      "text/plain": [
       "0.3333333333333333"
      ]
     },
     "execution_count": 24,
     "metadata": {},
     "output_type": "execute_result"
    }
   ],
   "source": [
    "pagers_unicos/total"
   ]
  },
  {
   "cell_type": "markdown",
   "metadata": {},
   "source": [
    "# otra forma"
   ]
  },
  {
   "cell_type": "code",
   "execution_count": 34,
   "metadata": {},
   "outputs": [],
   "source": [
    "pagers_distintos = merged.id_pager.unique()\n",
    "pagers_distintos = len(pagers_distintos)"
   ]
  },
  {
   "cell_type": "code",
   "execution_count": 35,
   "metadata": {},
   "outputs": [
    {
     "data": {
      "text/html": [
       "<div>\n",
       "<style scoped>\n",
       "    .dataframe tbody tr th:only-of-type {\n",
       "        vertical-align: middle;\n",
       "    }\n",
       "\n",
       "    .dataframe tbody tr th {\n",
       "        vertical-align: top;\n",
       "    }\n",
       "\n",
       "    .dataframe thead th {\n",
       "        text-align: right;\n",
       "    }\n",
       "</style>\n",
       "<table border=\"1\" class=\"dataframe\">\n",
       "  <thead>\n",
       "    <tr style=\"text-align: right;\">\n",
       "      <th></th>\n",
       "      <th>id_pager</th>\n",
       "      <th>num_origen</th>\n",
       "    </tr>\n",
       "  </thead>\n",
       "  <tbody>\n",
       "    <tr>\n",
       "      <th>0</th>\n",
       "      <td>13</td>\n",
       "      <td>[19, 1]</td>\n",
       "    </tr>\n",
       "    <tr>\n",
       "      <th>1</th>\n",
       "      <td>15</td>\n",
       "      <td>[18, 19]</td>\n",
       "    </tr>\n",
       "    <tr>\n",
       "      <th>2</th>\n",
       "      <td>16</td>\n",
       "      <td>[19]</td>\n",
       "    </tr>\n",
       "  </tbody>\n",
       "</table>\n",
       "</div>"
      ],
      "text/plain": [
       "   id_pager num_origen\n",
       "0        13    [19, 1]\n",
       "1        15   [18, 19]\n",
       "2        16       [19]"
      ]
     },
     "execution_count": 35,
     "metadata": {},
     "output_type": "execute_result"
    }
   ],
   "source": [
    "b = merged.groupby(\"id_pager\").num_origen.unique().reset_index()\n",
    "b"
   ]
  },
  {
   "cell_type": "code",
   "execution_count": 27,
   "metadata": {},
   "outputs": [],
   "source": [
    "b.columns = [\"id_pager\",\"distintos\"]"
   ]
  },
  {
   "cell_type": "code",
   "execution_count": 28,
   "metadata": {},
   "outputs": [],
   "source": [
    "unicos = b.distintos.map(lambda x: len(x)==1).sum()"
   ]
  },
  {
   "cell_type": "code",
   "execution_count": 29,
   "metadata": {},
   "outputs": [
    {
     "data": {
      "text/plain": [
       "0.3333333333333333"
      ]
     },
     "execution_count": 29,
     "metadata": {},
     "output_type": "execute_result"
    }
   ],
   "source": [
    "unicos/pagers_distintos"
   ]
  },
  {
   "cell_type": "code",
   "execution_count": null,
   "metadata": {},
   "outputs": [],
   "source": []
  },
  {
   "cell_type": "code",
   "execution_count": null,
   "metadata": {},
   "outputs": [],
   "source": [
    "\n"
   ]
  }
 ],
 "metadata": {
  "kernelspec": {
   "display_name": "Python 3",
   "language": "python",
   "name": "python3"
  },
  "language_info": {
   "codemirror_mode": {
    "name": "ipython",
    "version": 3
   },
   "file_extension": ".py",
   "mimetype": "text/x-python",
   "name": "python",
   "nbconvert_exporter": "python",
   "pygments_lexer": "ipython3",
   "version": "3.7.5rc1"
  }
 },
 "nbformat": 4,
 "nbformat_minor": 2
}
