{
 "cells": [
  {
   "cell_type": "markdown",
   "metadata": {},
   "source": [
    "1) Nintendo of America (EEUU) tiene\n",
    "información de ventas de videojuegos\n",
    "físicas mensuales totalizadas en EEUU\n",
    "las cuales se realizan en cadenas de\n",
    "tiendas de videojuegos en el siguiente\n",
    "RDD: (id_videojuego, id_tienda, mes,\n",
    "anio, total_ventas_mensuales).\n",
    "\n",
    "\n",
    "Por otro lado tenemos un RDD con\n",
    "información de las tiendas y de su\n",
    "ubicación (id_tienda, direccion, latitud,\n",
    "longitud, codigo_postal, estado).\n",
    "\n",
    "\n",
    "\n",
    "Con esta información escribir un\n",
    "programa en pySpark para obtener la\n",
    "tienda que realizó menor cantidad de\n",
    "ventas en el estado de “Georgia” en todo\n",
    "el año 2017. (***) (15 pts) "
   ]
  },
  {
   "cell_type": "code",
   "execution_count": 41,
   "metadata": {},
   "outputs": [],
   "source": [
    "# ventas (id_videojuego, id_tienda, mes, anio, total_ventas_mensuales)\n",
    "data1 = [\n",
    "    (1,1,4,2017,100),\n",
    "    (1,1,4,2017,100),\n",
    "    (1,1,4,2017,100),\n",
    "    (1,1,4,2017,100),\n",
    "    (1,1,4,2017,100),\n",
    "    (1,3,4,2017,100),\n",
    "    (1,2,4,2017,10),\n",
    "    (1,4,4,2016,100),\n",
    "    (1,4,4,2018,100),\n",
    "]\n",
    "data2 = [\n",
    "    (1,4,1,2017,100,\"Georgia\"),\n",
    "    (2,4,1,2017,100,\"Georgia\"),\n",
    "    (3,4,1,2017,100,\"Manhattan\"),\n",
    "    (4,4,1,2017,100,\"Georgia\"),\n",
    "]\n",
    "\n",
    "# tiendas (id_tienda, direccion, latitud, longitud, codigo_postal, estado)"
   ]
  },
  {
   "cell_type": "code",
   "execution_count": 42,
   "metadata": {},
   "outputs": [],
   "source": [
    "ventas = sc.parallelize(data1) \n",
    "\n",
    "tiendas = sc.parallelize(data2) "
   ]
  },
  {
   "cell_type": "code",
   "execution_count": 43,
   "metadata": {},
   "outputs": [],
   "source": [
    "tiendas = tiendas.filter(lambda x: x[5]==\"Georgia\")\n",
    "tiendas = tiendas.map(lambda x: (x[0],1) )\n",
    "# id tienda, 1"
   ]
  },
  {
   "cell_type": "code",
   "execution_count": 44,
   "metadata": {},
   "outputs": [],
   "source": [
    "ventas = ventas.filter(lambda x: x[3]==2017)\n",
    "ventas = ventas.map(lambda x: (x[1],x[4]))\n",
    "# id tienda, ventas"
   ]
  },
  {
   "cell_type": "code",
   "execution_count": 45,
   "metadata": {},
   "outputs": [],
   "source": [
    "ventas = ventas.reduceByKey(lambda x,y: x+y)"
   ]
  },
  {
   "cell_type": "code",
   "execution_count": 48,
   "metadata": {},
   "outputs": [],
   "source": [
    "result = ventas.join(tiendas)\n",
    "# id , (venta,1)\n"
   ]
  },
  {
   "cell_type": "code",
   "execution_count": 47,
   "metadata": {},
   "outputs": [
    {
     "data": {
      "text/plain": [
       "(2, (10, 1))"
      ]
     },
     "execution_count": 47,
     "metadata": {},
     "output_type": "execute_result"
    }
   ],
   "source": [
    "result.reduce(lambda x,y: x if x[1][0]<y[1][0] else y)"
   ]
  },
  {
   "cell_type": "code",
   "execution_count": null,
   "metadata": {},
   "outputs": [],
   "source": []
  }
 ],
 "metadata": {
  "kernelspec": {
   "display_name": "Python 3",
   "language": "python",
   "name": "python3"
  },
  "language_info": {
   "codemirror_mode": {
    "name": "ipython",
    "version": 3
   },
   "file_extension": ".py",
   "mimetype": "text/x-python",
   "name": "python",
   "nbconvert_exporter": "python",
   "pygments_lexer": "ipython3",
   "version": "3.7.5rc1"
  }
 },
 "nbformat": 4,
 "nbformat_minor": 2
}
