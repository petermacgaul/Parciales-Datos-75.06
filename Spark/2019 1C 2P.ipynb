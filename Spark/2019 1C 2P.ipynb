{
 "cells": [
  {
   "cell_type": "markdown",
   "metadata": {},
   "source": [
    "ACARA posee información histórica sobre la venta de autos 0km\n",
    "en la Argentina. Posee un RDD con información de cada modelo\n",
    "(marca, modelo, motor, transmisión, origen) y otro con\n",
    "la información de ventas (marca, modelo, fecha,\n",
    "concesionario).\n",
    "Se desea conocer, para los modelos de origen nacional, cuales son\n",
    "los modelos que ya se discontinuaron (un modelo discontinuado es\n",
    "aquel que no tuvo ventas en los últimos 12 meses), obteniendo un\n",
    "nuevo RDD con (marca, modelo, total_vendido,\n",
    "fecha_inicio_venta, fecha_discontinuación), donde la\n",
    "fecha de discontinuación es la fecha cuando se vendió el último auto\n",
    "de ese modelo, ordenado ascendentemente por esta fecha. (***) (\n",
    "15pts)\n",
    "Aclaración: Se puede asumir que el primer RDD tiene un único\n",
    "registro para cada Marca y Modelo."
   ]
  },
  {
   "cell_type": "code",
   "execution_count": 47,
   "metadata": {},
   "outputs": [],
   "source": [
    "#modelo (marca, modelo, motor, transmisión, origen) rdd1\n",
    "data1 = [\n",
    "    (1,2,2,\"a1\",\"ARG\"),\n",
    "    (2,2,2,\"a2\",\"ARG\"),\n",
    "    (1,3,2,\"a3\",\"ARG\"),\n",
    "    (1,5,2,\"a3\",\"ARG\"),\n",
    "    (1,4,2,\"a4\",\"Bol\")\n",
    "]\n",
    "#venta (marca, modelo, fecha, concesionario). rdd2\n",
    "data2 = [\n",
    "    (1,2,\"2018-08-12\", 1),\n",
    "    (1,3,\"2019-08-14\", 4),\n",
    "    (1,4,\"2019-07-13\", 1),\n",
    "    (2,2,\"2019-08-14\", 1),\n",
    "    (2,2,\"2019-08-14\", 1),\n",
    "    (1,3,\"2017-07-12\", 1),\n",
    "    (1,3,\"2019-08-12\", 1),\n",
    "    (1,3,\"2010-08-12\", 1),\n",
    "    (1,2,\"2018-08-12\", 1),\n",
    "    (1,5,\"2018-08-14\", 4),\n",
    "    (1,5,\"2010-08-14\", 4),\n",
    "    (1,4,\"2019-07-13\", 1),\n",
    "    (2,2,\"2019-08-14\", 1),\n",
    "    (2,2,\"2019-08-14\", 1),\n",
    "    (1,3,\"2017-07-12\", 1),\n",
    "    (1,3,\"2019-08-12\", 1),\n",
    "    (1,3,\"2019-08-12\", 1),\n",
    "]"
   ]
  },
  {
   "cell_type": "code",
   "execution_count": 48,
   "metadata": {},
   "outputs": [],
   "source": [
    "rdd1= sc.parallelize(data1)\n",
    "\n",
    "rdd2= sc.parallelize(data2)"
   ]
  },
  {
   "cell_type": "code",
   "execution_count": 49,
   "metadata": {},
   "outputs": [],
   "source": [
    "rdd1 = rdd1.filter(lambda x: x[4]==\"ARG\")"
   ]
  },
  {
   "cell_type": "code",
   "execution_count": 50,
   "metadata": {},
   "outputs": [],
   "source": [
    "rdd2 = rdd2.map(lambda x: ((x[0],x[1]),x[2]))\n",
    "#(marca, modelo ),(fecha)\n",
    "\n",
    "rdd1 = rdd1.map(lambda x: ((x[0],x[1]), 1))\n",
    "#(marca, modelo),1"
   ]
  },
  {
   "cell_type": "code",
   "execution_count": 51,
   "metadata": {},
   "outputs": [],
   "source": [
    "merged = rdd1.join(rdd2)\n",
    "#(marca, modelo),(fecha,1)"
   ]
  },
  {
   "cell_type": "code",
   "execution_count": 52,
   "metadata": {},
   "outputs": [],
   "source": [
    "merged = merged.reduceByKey(lambda x,y: (x[0]+y[0],x[1] if x[1]<y[1] else y[1], x[1] if x[1]>y[1] else y[1] ))\n",
    "#(marca, modelo),(cant total,fecha inicio de venta, ult fecha de venta)"
   ]
  },
  {
   "cell_type": "code",
   "execution_count": 53,
   "metadata": {},
   "outputs": [],
   "source": [
    "result = merged.filter(lambda x: len(x[1])==3 and x[1][2]>\"2018-11-14\")"
   ]
  },
  {
   "cell_type": "code",
   "execution_count": 54,
   "metadata": {},
   "outputs": [],
   "source": [
    "#(marca, modelo, total_vendido, fecha_inicio_venta, fecha_discontinuación),\n",
    "result = result.map(lambda x: (x[0][0],x[0][1],x[1][0],x[1][1],x[1][2]) )"
   ]
  },
  {
   "cell_type": "code",
   "execution_count": 55,
   "metadata": {},
   "outputs": [
    {
     "data": {
      "text/plain": [
       "[(1, 3, 7, '2010-08-12', '2019-08-12'), (2, 2, 4, '2019-08-14', '2019-08-14')]"
      ]
     },
     "execution_count": 55,
     "metadata": {},
     "output_type": "execute_result"
    }
   ],
   "source": [
    "#El collect solo para verificar\n",
    "result.collect()"
   ]
  },
  {
   "cell_type": "code",
   "execution_count": null,
   "metadata": {},
   "outputs": [],
   "source": []
  }
 ],
 "metadata": {
  "kernelspec": {
   "display_name": "Python 3",
   "language": "python",
   "name": "python3"
  },
  "language_info": {
   "codemirror_mode": {
    "name": "ipython",
    "version": 3
   },
   "file_extension": ".py",
   "mimetype": "text/x-python",
   "name": "python",
   "nbconvert_exporter": "python",
   "pygments_lexer": "ipython3",
   "version": "3.7.5rc1"
  }
 },
 "nbformat": 4,
 "nbformat_minor": 2
}
