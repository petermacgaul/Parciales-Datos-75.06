{
 "cells": [
  {
   "cell_type": "code",
   "execution_count": null,
   "metadata": {},
   "outputs": [],
   "source": [
    "data1 = [\n",
    "    (1,\"a1\",\"BSAS\"),\n",
    "    (2,\"a2\",\"BSAS\"),\n",
    "    (3,\"a3\",\"BSAS\"),\n",
    "    (4,\"a4\",\"Noruega\")\n",
    "]\n",
    "\n",
    "data2 = [\n",
    "    (\"2018-08-12\", 1, 30),\n",
    "    (\"2018-08-14\", 4, 30),\n",
    "    (\"2018-07-13\", 1, 30),\n",
    "    (\"2018-08-14\", 1, 30),\n",
    "    (\"2018-08-14\", 1, 30),\n",
    "    (\"2017-07-12\", 1, 30),\n",
    "    (\"2018-08-12\", 1, 30),\n",
    "    (\"2018-08-12\", 1, 30),\n",
    "]"
   ]
  },
  {
   "cell_type": "code",
   "execution_count": null,
   "metadata": {},
   "outputs": [],
   "source": [
    "#rdd1 - id_base , nombre , pcia , ciudad , lat , lon\n",
    "rdd1 = sc.parallelize(data1);\n",
    "\n",
    "#rdd2 - TIMESTAMP, ID_BASE, TEMPERATURA, HUMEDAD, \n",
    "#       PRESIÓN, DIRECCIÓN VIENTO, VELOCIDAD VIENTO\n",
    "rdd2 = sc.parallelize(data2);\n",
    "\n",
    "#ID y nombre result final"
   ]
  },
  {
   "cell_type": "code",
   "execution_count": null,
   "metadata": {},
   "outputs": [],
   "source": [
    "rdd1 = rdd1.filter(lambda x: x[2]==\"BSAS\")\n",
    "rdd2 = rdd2.filter(lambda x: x[0]>=\"2017-12-00\")"
   ]
  },
  {
   "cell_type": "code",
   "execution_count": null,
   "metadata": {},
   "outputs": [],
   "source": [
    "rdd1.map(lambda x: (x[0],x[1]))\n",
    "#rdd1 -> id_base, nombre\n",
    "\n",
    "rdd2.map(lambda x: ((x[1],x[0][:7]),(x[2],1) ) )\n",
    "#rdd2 -> (año-mes, id_base) , (temp, 1)"
   ]
  },
  {
   "cell_type": "code",
   "execution_count": null,
   "metadata": {},
   "outputs": [],
   "source": [
    "rdd2.reduceByKey(lambda x,y: (x[0]+y[0],x[1]+y[1]))\n",
    "#rdd2 -> (año-mes, id_base) , (suma de temp, cant de mediciones)"
   ]
  },
  {
   "cell_type": "code",
   "execution_count": null,
   "metadata": {},
   "outputs": [],
   "source": [
    "def mes_anterior(x):\n",
    "    mes=int(x[5:7])\n",
    "    anio=int(x[:3])\n",
    "    mes=mes-1\n",
    "    if mes==0:\n",
    "        anio=anio-1\n",
    "        mes=12\n",
    "    return (str(anio)+\"-\"+str(mes))\n",
    "    "
   ]
  },
  {
   "cell_type": "code",
   "execution_count": null,
   "metadata": {},
   "outputs": [],
   "source": [
    "rdd2.flatMap(lambda x: [ (x[0][1], (x[1][0]/x[1][1],mes_anterior(x[0][0]) ) ),\n",
    "                        (x[0][1], (x[1][0]/x[1][1],x[0][0]) ) ] )\n",
    "#rdd2 -> id_base , (promedio, anio mes)"
   ]
  },
  {
   "cell_type": "code",
   "execution_count": null,
   "metadata": {},
   "outputs": [],
   "source": [
    "rdd2.groupByKey(lambda x,y: len(x)==2 & x[0][0]/y[0][0]>0.3)\n",
    "# id_base, ((prom, mes),(prom,mes_anterior))"
   ]
  },
  {
   "cell_type": "code",
   "execution_count": null,
   "metadata": {},
   "outputs": [],
   "source": [
    "rdd1.join(rdd2)\n",
    "rdd1.map(lambda x: (x[0],x[1]))"
   ]
  }
 ],
 "metadata": {
  "kernelspec": {
   "display_name": "Python 3",
   "language": "python",
   "name": "python3"
  },
  "language_info": {
   "codemirror_mode": {
    "name": "ipython",
    "version": 3
   },
   "file_extension": ".py",
   "mimetype": "text/x-python",
   "name": "python",
   "nbconvert_exporter": "python",
   "pygments_lexer": "ipython3",
   "version": "3.7.5rc1"
  }
 },
 "nbformat": 4,
 "nbformat_minor": 2
}
