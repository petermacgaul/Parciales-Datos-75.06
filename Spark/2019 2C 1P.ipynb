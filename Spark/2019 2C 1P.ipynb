{
 "cells": [
  {
   "cell_type": "code",
   "execution_count": null,
   "metadata": {},
   "outputs": [],
   "source": [
    "# ID_JUGADOR, Nombre_apellido, fecha_nacimiento, pais\n",
    "\n",
    "# id_partido, id_jugador, tiempo_juego, distancia_recorrida, goles\n",
    "\n",
    "# id_partido, año, semestre, nro_fecha, equipo_local, equipo_visit"
   ]
  },
  {
   "cell_type": "code",
   "execution_count": null,
   "metadata": {},
   "outputs": [],
   "source": [
    "jugador\n",
    "\n",
    "estadisticas\n",
    "\n",
    "partido"
   ]
  },
  {
   "cell_type": "code",
   "execution_count": null,
   "metadata": {},
   "outputs": [],
   "source": [
    "#Obtener rdd nombre apellido de argentinos 50% aumento de un semestr al otro"
   ]
  },
  {
   "cell_type": "code",
   "execution_count": null,
   "metadata": {},
   "outputs": [],
   "source": [
    "jugador = jugador.filter(lambda x: x[3]==\"ARG\").map(lambda x: (x[0],x[1]))\n",
    "#id_jugador, nombre_apellido (solo arg)"
   ]
  },
  {
   "cell_type": "code",
   "execution_count": null,
   "metadata": {},
   "outputs": [],
   "source": [
    "estadisticas = estadisticas.map(lambda x: x[1],(x[0],x[2]))\n",
    "#id_jugador , (id_partido, tiempo_juego)"
   ]
  },
  {
   "cell_type": "code",
   "execution_count": null,
   "metadata": {},
   "outputs": [],
   "source": [
    "jug_stats = jugador.join(estadisticas)\n",
    "#id_jugador, (nombre apellido, (id_partido,tiempo_juego))"
   ]
  },
  {
   "cell_type": "code",
   "execution_count": null,
   "metadata": {},
   "outputs": [],
   "source": [
    "jug_stats = jug_stats.map(lambda x: (x[1][1][0],(x[0],x[1][1],x[1][1][1])) )\n",
    "#id_partido, (id_jugador, nombre apellido, tiempo)"
   ]
  },
  {
   "cell_type": "code",
   "execution_count": null,
   "metadata": {},
   "outputs": [],
   "source": [
    "partidos = partidos.map(lambda x: (x[0],(x[1],[2])))\n",
    "#id_patido,( año, semestre)"
   ]
  },
  {
   "cell_type": "code",
   "execution_count": null,
   "metadata": {},
   "outputs": [],
   "source": [
    "todos = jug_stats.join(partidos)\n",
    "# id_patido, (id_jugador, nombre apellido, tiempo), (año,semestre)"
   ]
  },
  {
   "cell_type": "code",
   "execution_count": null,
   "metadata": {},
   "outputs": [],
   "source": [
    "todos = todos.map(lambda x: ((x[1][0][0],x[1][0][1],x[1][1][0],x[1][1][1]),x[1][0][2]))\n",
    "# (id_jugador, nombre apellido, año, semestre), tiempo"
   ]
  },
  {
   "cell_type": "code",
   "execution_count": null,
   "metadata": {},
   "outputs": [],
   "source": [
    "todos = todos.reduceByKey(lambda x,y: x+y)\n",
    "# (id_jugador, nombre apellido, año, semestre), tiempo total"
   ]
  },
  {
   "cell_type": "code",
   "execution_count": 1,
   "metadata": {},
   "outputs": [],
   "source": [
    "def semestre_anterior(x):\n",
    "    anio = x[2]\n",
    "    sem = x[3]\n",
    "    if sem == 1:\n",
    "        anio = anio-1\n",
    "        sem = 2\n",
    "    else:\n",
    "        sem = sem-1\n",
    "    return (x[0],x[1],anio,sem)"
   ]
  },
  {
   "cell_type": "code",
   "execution_count": null,
   "metadata": {},
   "outputs": [],
   "source": [
    "todos = todos.flatMap(lambda x: [(semestre_anterior(x[0]) , x[1] ), \n",
    "                                 (x[0],x[1])\n",
    "]  )"
   ]
  },
  {
   "cell_type": "code",
   "execution_count": null,
   "metadata": {},
   "outputs": [],
   "source": [
    "todos = todos.groupByKey().filter(lambda x: len(x[1])==2 and x[1][1]/x[1][0]>0.5)"
   ]
  },
  {
   "cell_type": "code",
   "execution_count": null,
   "metadata": {},
   "outputs": [],
   "source": [
    "todos = todos.map(lambda x: x[0][1])"
   ]
  },
  {
   "cell_type": "code",
   "execution_count": null,
   "metadata": {},
   "outputs": [],
   "source": []
  }
 ],
 "metadata": {
  "kernelspec": {
   "display_name": "Python 3",
   "language": "python",
   "name": "python3"
  },
  "language_info": {
   "codemirror_mode": {
    "name": "ipython",
    "version": 3
   },
   "file_extension": ".py",
   "mimetype": "text/x-python",
   "name": "python",
   "nbconvert_exporter": "python",
   "pygments_lexer": "ipython3",
   "version": "3.7.5rc1"
  }
 },
 "nbformat": 4,
 "nbformat_minor": 2
}
