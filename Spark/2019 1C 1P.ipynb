{
 "cells": [
  {
   "cell_type": "code",
   "execution_count": 1,
   "metadata": {},
   "outputs": [],
   "source": [
    "data1 = [\n",
    "    (1,\"a1\",\"BSAS\"),\n",
    "    (2,\"a2\",\"BSAS\"),\n",
    "    (3,\"a3\",\"BSAS\"),\n",
    "    (4,\"a4\",\"Noruega\")\n",
    "]\n",
    "\n",
    "data2 = [\n",
    "    (\"2018-08-12\", 1, 30),\n",
    "    (\"2018-08-14\", 4, 30),\n",
    "    (\"2018-07-13\", 1, 20),\n",
    "    (\"2018-08-14\", 1, 30),\n",
    "    (\"2018-08-14\", 1, 30),\n",
    "    (\"2017-07-12\", 1, 30),\n",
    "    (\"2018-08-12\", 1, 30),\n",
    "    (\"2018-08-12\", 1, 30),\n",
    "]"
   ]
  },
  {
   "cell_type": "code",
   "execution_count": 2,
   "metadata": {},
   "outputs": [],
   "source": [
    "#rdd1 - id_base , nombre , pcia , ciudad , lat , lon\n",
    "rdd1 = sc.parallelize(data1);\n",
    "\n",
    "#rdd2 - TIMESTAMP, ID_BASE, TEMPERATURA, HUMEDAD, \n",
    "#       PRESIÓN, DIRECCIÓN VIENTO, VELOCIDAD VIENTO\n",
    "rdd2 = sc.parallelize(data2);\n",
    "\n",
    "#ID y nombre result final"
   ]
  },
  {
   "cell_type": "code",
   "execution_count": 3,
   "metadata": {},
   "outputs": [],
   "source": [
    "rdd1 = rdd1.filter(lambda x: x[2]==\"BSAS\")\n",
    "rdd2 = rdd2.filter(lambda x: x[0]>=\"2017-12-00\")"
   ]
  },
  {
   "cell_type": "code",
   "execution_count": 4,
   "metadata": {},
   "outputs": [],
   "source": [
    "rdd1 = rdd1.map(lambda x: (x[0],x[1]))\n",
    "#rdd1 -> id_base, nombre\n",
    "\n",
    "rdd2 = rdd2.map(lambda x: ((x[1],x[0][:7]),(x[2],1) ) )\n",
    "#rdd2 -> (año-mes, id_base) , (temp, 1)"
   ]
  },
  {
   "cell_type": "code",
   "execution_count": 5,
   "metadata": {},
   "outputs": [],
   "source": [
    "rdd2 = rdd2.reduceByKey(lambda x,y: (x[0]+y[0],x[1]+y[1]))\n",
    "#rdd2 -> (año-mes, id_base) , (suma de temp, cant de mediciones)"
   ]
  },
  {
   "cell_type": "code",
   "execution_count": 6,
   "metadata": {},
   "outputs": [],
   "source": [
    "def mes_anterior(x):\n",
    "    mes=int(x[5:7])\n",
    "    anio=int(x[:4])\n",
    "    mes=mes-1\n",
    "    if mes==0:\n",
    "        anio=anio-1\n",
    "        mes=12\n",
    "    return (str(anio)+\"-\"+\"0\"+str(mes))\n"
   ]
  },
  {
   "cell_type": "code",
   "execution_count": 7,
   "metadata": {},
   "outputs": [],
   "source": [
    "rdd2 = rdd2.flatMap(lambda x: [  ( ( x[0][0],mes_anterior(x[0][1]) ), x[1][0]/x[1][1] ),\n",
    "                        ( ( x[0][0],x[0][1] ), x[1][0]/x[1][1] ) ] )\n",
    "#rdd2 -> id_base , (promedio, anio mes)\n"
   ]
  },
  {
   "cell_type": "code",
   "execution_count": 8,
   "metadata": {},
   "outputs": [
    {
     "data": {
      "text/plain": [
       "[((1, '2018-06'), [20.0]),\n",
       " ((1, '2018-07'), [30.0, 20.0]),\n",
       " ((1, '2018-08'), [30.0]),\n",
       " ((4, '2018-07'), [30.0]),\n",
       " ((4, '2018-08'), [30.0])]"
      ]
     },
     "execution_count": 8,
     "metadata": {},
     "output_type": "execute_result"
    }
   ],
   "source": [
    "rdd2 = rdd2.groupByKey().mapValues(list)\n",
    "# el map values es solo para ver los valores que tengo, sino no puedo verlo desde aca\n",
    "\n",
    "# id_base, ((prom, mes),(prom,mes_anterior))\n",
    "rdd2.collect()"
   ]
  },
  {
   "cell_type": "code",
   "execution_count": 9,
   "metadata": {},
   "outputs": [],
   "source": [
    "#Filtro los del 30% \n",
    "rdd2 = rdd2.filter(lambda x: (len(x[1])==2) and ((x[1][1]/x[1][0]) < 0.70 ))\n",
    "\n",
    "#Mapeo para joinear\n",
    "rdd2 = rdd2.map(lambda x: (x[0][0],x[0][1]))\n",
    "#rdd2 --> id_base, mes"
   ]
  },
  {
   "cell_type": "code",
   "execution_count": 10,
   "metadata": {},
   "outputs": [
    {
     "data": {
      "text/plain": [
       "[(1, 'a1')]"
      ]
     },
     "execution_count": 10,
     "metadata": {},
     "output_type": "execute_result"
    }
   ],
   "source": [
    "result = rdd1.join(rdd2)\n",
    "result.map(lambda x: (x[0],x[1][0])).collect()"
   ]
  },
  {
   "cell_type": "code",
   "execution_count": null,
   "metadata": {},
   "outputs": [],
   "source": []
  }
 ],
 "metadata": {
  "kernelspec": {
   "display_name": "Python 3",
   "language": "python",
   "name": "python3"
  },
  "language_info": {
   "codemirror_mode": {
    "name": "ipython",
    "version": 3
   },
   "file_extension": ".py",
   "mimetype": "text/x-python",
   "name": "python",
   "nbconvert_exporter": "python",
   "pygments_lexer": "ipython3",
   "version": "3.7.5rc1"
  }
 },
 "nbformat": 4,
 "nbformat_minor": 2
}
